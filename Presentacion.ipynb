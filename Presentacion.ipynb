{
 "cells": [
  {
   "cell_type": "code",
   "execution_count": 14,
   "metadata": {
    "collapsed": true
   },
   "outputs": [],
   "source": [
    "import pandas as pd\n",
    "import plotly.plotly as py\n",
    "import plotly.graph_objs as go\n",
    "\n",
    "def plot_time_line_two_v2(x1,y1,x2,y2,title,x_axis,y_axis,n1,n2):\n",
    "\n",
    "    trace1 = go.Scatter(\n",
    "        x=x1,\n",
    "        y=y1,\n",
    "        name=n1\n",
    "    )\n",
    "    trace2 = go.Scatter(\n",
    "        x=x2,\n",
    "        y=y2,\n",
    "        name=n2\n",
    "    )\n",
    "    data = [trace1, trace2]\n",
    "    \n",
    "    layout = go.Layout(\n",
    "        title=title,\n",
    "        xaxis=dict(\n",
    "            title=x_axis,\n",
    "            titlefont=dict(\n",
    "                family='Courier New, monospace',\n",
    "                size=18,\n",
    "                color='#7f7f7f'\n",
    "            )\n",
    "        ),\n",
    "        yaxis=dict(\n",
    "            title=y_axis,\n",
    "            titlefont=dict(\n",
    "                family='Courier New, monospace',\n",
    "                size=18,\n",
    "                color='#7f7f7f'\n",
    "            )\n",
    "        )\n",
    "    )\n",
    "    fig = go.Figure(data=data, layout=layout)\n",
    "    return py.iplot(fig, filename=title)\n",
    "\n",
    "def plot_two_bar(x,y,y2,t1_nam,t2_nam,x_axis,y_axis,title):\n",
    "\n",
    "    x = x\n",
    "    y = y\n",
    "    y2 = y2\n",
    "\n",
    "    trace1 = go.Bar(\n",
    "        x=x,\n",
    "        y=y,\n",
    "        name=t1_nam,\n",
    "        textposition = 'auto',\n",
    "        marker=dict(\n",
    "            color='rgb(158,202,225)',\n",
    "            line=dict(\n",
    "                color='rgb(8,48,107)',\n",
    "                width=1.5),\n",
    "            ),\n",
    "        opacity=0.6\n",
    "    )\n",
    "\n",
    "    trace2 = go.Bar(\n",
    "        x=x,\n",
    "        y=y2,\n",
    "        name=t2_nam,\n",
    "        textposition = 'auto',\n",
    "        marker=dict(\n",
    "            color='rgb(58,200,225)',\n",
    "            line=dict(\n",
    "                color='rgb(8,48,107)',\n",
    "                width=1.5),\n",
    "            ),\n",
    "        opacity=0.6\n",
    "    )\n",
    "\n",
    "    data = [trace1,trace2]\n",
    "\n",
    "    layout = go.Layout(\n",
    "        title=title,\n",
    "        xaxis=dict(\n",
    "            title=x_axis,\n",
    "            titlefont=dict(\n",
    "                family='Courier New, monospace',\n",
    "                size=18,\n",
    "                color='#7f7f7f'\n",
    "            )\n",
    "        ),\n",
    "        yaxis=dict(\n",
    "            title=y_axis,\n",
    "            titlefont=dict(\n",
    "                family='Courier New, monospace',\n",
    "                size=18,\n",
    "                color='#7f7f7f'\n",
    "            )\n",
    "        )\n",
    "    )\n",
    "    fig = go.Figure(data=data, layout=layout)\n",
    "    return py.iplot(fig, filename=title)\n",
    "\n",
    "def plot_heatmap(df,x_nam,y_nam,title):\n",
    "    data = [\n",
    "        go.Heatmap(\n",
    "            z=df.iloc[:,1],\n",
    "            x=df.iloc[:,0],\n",
    "            y=df.iloc[:,2],\n",
    "            colorscale='Viridis',\n",
    "        )\n",
    "    ]\n",
    "\n",
    "    layout = go.Layout(\n",
    "        title=title,\n",
    "        xaxis = dict(title=x_nam),\n",
    "        yaxis = dict(title=y_nam)\n",
    "    )\n",
    "\n",
    "    fig = go.Figure(data=data, layout=layout)\n",
    "    return py.iplot(fig, filename=title)"
   ]
  },
  {
   "cell_type": "markdown",
   "metadata": {},
   "source": [
    "## Cantidad de Tickets Iniciados y Completados"
   ]
  },
  {
   "cell_type": "markdown",
   "metadata": {},
   "source": [
    "Para comprender la el rendimiento operacional de los tickets demandados vs completados, graficamos las fechas de inicio y finalización junto con la cantidad de tickets realizados en ese periodo"
   ]
  },
  {
   "cell_type": "code",
   "execution_count": 4,
   "metadata": {
    "scrolled": true
   },
   "outputs": [
    {
     "data": {
      "text/html": [
       "<iframe id=\"igraph\" scrolling=\"no\" style=\"border:none;\" seamless=\"seamless\" src=\"https://plot.ly/~ambigus9/460.embed\" height=\"525px\" width=\"100%\"></iframe>"
      ],
      "text/plain": [
       "<plotly.tools.PlotlyDisplay object>"
      ]
     },
     "execution_count": 4,
     "metadata": {},
     "output_type": "execute_result"
    }
   ],
   "source": [
    "tickets_start_end_2016_2017 = pd.read_csv('Tickets_Start_End_2016-vs-2017')\n",
    "\n",
    "plot_time_line_two_v2(tickets_start_end_2016_2017.iloc[:,0],tickets_start_end_2016_2017.iloc[:,1],\n",
    "                      tickets_start_end_2016_2017.iloc[:,0],tickets_start_end_2016_2017.iloc[:,2],\n",
    "                      'Tickets 2016 a 2017','Tiempo','Tickets','Iniciados','Completados'\n",
    "                     )"
   ]
  },
  {
   "cell_type": "markdown",
   "metadata": {},
   "source": [
    "## Cantidad de Tickets Realizados en menos de 7 días"
   ]
  },
  {
   "cell_type": "markdown",
   "metadata": {},
   "source": [
    "Para tener una noción clara del rendimiento semanal de tickets calculamos los tickets que se completaron en menos de 7 días y graficamos la semana del año en la que se completaron los tickets para cada caso"
   ]
  },
  {
   "cell_type": "code",
   "execution_count": 9,
   "metadata": {
    "scrolled": true
   },
   "outputs": [
    {
     "data": {
      "text/html": [
       "<iframe id=\"igraph\" scrolling=\"no\" style=\"border:none;\" seamless=\"seamless\" src=\"https://plot.ly/~ambigus9/474.embed\" height=\"525px\" width=\"100%\"></iframe>"
      ],
      "text/plain": [
       "<plotly.tools.PlotlyDisplay object>"
      ]
     },
     "execution_count": 9,
     "metadata": {},
     "output_type": "execute_result"
    }
   ],
   "source": [
    "tickets_min_7d_2016_2017 = pd.read_csv('Tickets_min_7d_2016-vs-2017')\n",
    "plot_two_bar(tickets_min_7d_2016_2017.iloc[:,0],tickets_min_7d_2016_2017.iloc[:,1],tickets_min_7d_2016_2017.iloc[:,3],'2016','2017','Semana','Tickets','Tickets <7 días 2016 vs 2017')"
   ]
  },
  {
   "cell_type": "markdown",
   "metadata": {},
   "source": [
    "## Total Tickets Mensuales"
   ]
  },
  {
   "cell_type": "markdown",
   "metadata": {},
   "source": [
    "Calculamos el total de tickets completados en cada mes"
   ]
  },
  {
   "cell_type": "code",
   "execution_count": 13,
   "metadata": {},
   "outputs": [
    {
     "data": {
      "text/html": [
       "<iframe id=\"igraph\" scrolling=\"no\" style=\"border:none;\" seamless=\"seamless\" src=\"https://plot.ly/~ambigus9/488.embed\" height=\"525px\" width=\"100%\"></iframe>"
      ],
      "text/plain": [
       "<plotly.tools.PlotlyDisplay object>"
      ]
     },
     "execution_count": 13,
     "metadata": {},
     "output_type": "execute_result"
    }
   ],
   "source": [
    "tickets_sum_2016_2017 = pd.read_csv('tickets_total_2016-vs-2017')\n",
    "plot_two_bar(tickets_sum_2016_2017.iloc[:,0],tickets_sum_2016_2017.iloc[:,1],tickets_sum_2016_2017.iloc[:,2],'2016','2017','Mes','Tickets','Total de Tickets 2016 vs 2017')"
   ]
  },
  {
   "cell_type": "markdown",
   "metadata": {},
   "source": [
    "## Rendimiento Tickets"
   ]
  },
  {
   "cell_type": "code",
   "execution_count": null,
   "metadata": {
    "collapsed": true
   },
   "outputs": [],
   "source": [
    "Calculamos el rendimiento "
   ]
  },
  {
   "cell_type": "code",
   "execution_count": 19,
   "metadata": {},
   "outputs": [
    {
     "data": {
      "text/html": [
       "<iframe id=\"igraph\" scrolling=\"no\" style=\"border:none;\" seamless=\"seamless\" src=\"https://plot.ly/~ambigus9/482.embed\" height=\"525px\" width=\"100%\"></iframe>"
      ],
      "text/plain": [
       "<plotly.tools.PlotlyDisplay object>"
      ]
     },
     "execution_count": 19,
     "metadata": {},
     "output_type": "execute_result"
    }
   ],
   "source": [
    "tickets_performance_2016 = pd.read_csv('tickets_performance_2016').drop(['Unnamed: 0'], axis=1)\n",
    "tickets_performance_2017 = pd.read_csv('tickets_performance_2017').drop(['Unnamed: 0'], axis=1)\n",
    "\n",
    "plot_heatmap(tickets_performance_2016,'Mes','Rango','Rendimiento Tickets 2016')"
   ]
  },
  {
   "cell_type": "code",
   "execution_count": 20,
   "metadata": {},
   "outputs": [
    {
     "data": {
      "text/html": [
       "<iframe id=\"igraph\" scrolling=\"no\" style=\"border:none;\" seamless=\"seamless\" src=\"https://plot.ly/~ambigus9/484.embed\" height=\"525px\" width=\"100%\"></iframe>"
      ],
      "text/plain": [
       "<plotly.tools.PlotlyDisplay object>"
      ]
     },
     "execution_count": 20,
     "metadata": {},
     "output_type": "execute_result"
    }
   ],
   "source": [
    "plot_heatmap(tickets_performance_2017,'Mes','Rango','Rendimiento Tickets 2017')"
   ]
  },
  {
   "cell_type": "code",
   "execution_count": null,
   "metadata": {
    "collapsed": true
   },
   "outputs": [],
   "source": []
  }
 ],
 "metadata": {
  "kernelspec": {
   "display_name": "Python 2",
   "language": "python",
   "name": "python2"
  },
  "language_info": {
   "codemirror_mode": {
    "name": "ipython",
    "version": 2
   },
   "file_extension": ".py",
   "mimetype": "text/x-python",
   "name": "python",
   "nbconvert_exporter": "python",
   "pygments_lexer": "ipython2",
   "version": "2.7.14"
  }
 },
 "nbformat": 4,
 "nbformat_minor": 2
}
